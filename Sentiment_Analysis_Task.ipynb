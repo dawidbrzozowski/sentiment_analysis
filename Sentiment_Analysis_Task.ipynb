{
 "cells": [
  {
   "cell_type": "markdown",
   "id": "monetary-western",
   "metadata": {},
   "source": [
    "## Task has been completed using my own Text Classification library.\n",
    "1. It's goal is to automate prototyping of machine learning models including preprocessing steps.\n",
    "2. I use it by defining a configuration, then running build, train & save process and then I evaluate the solution.\n",
    "3. To run all the steps on your own, you will have to follow the instructions provided in README.md file.\n",
    "4. I will leave the outputs in this notebook, so you can see just the results."
   ]
  },
  {
   "cell_type": "code",
   "execution_count": 1,
   "id": "operational-blake",
   "metadata": {},
   "outputs": [],
   "source": [
    "from text_clsf_lib.models.presets.preset_creation import create_preset\n",
    "from text_clsf_lib.models.build_train_save import build_train_save\n",
    "from text_clsf_lib.models.test_trained_model import test_single_model, test_multiple_models\n",
    "from text_clsf_lib.predictors.predictor import Predictor\n",
    "from text_clsf_lib.predictors.predictor_evaluations import deep_test_on_sample_lime\n",
    "from text_clsf_lib.predictors.presets import create_predictor_preset\n",
    "import pandas as pd\n",
    "%matplotlib inline"
   ]
  },
  {
   "cell_type": "code",
   "execution_count": 2,
   "id": "proof-organizer",
   "metadata": {},
   "outputs": [
    {
     "data": {
      "text/html": [
       "<div>\n",
       "<style scoped>\n",
       "    .dataframe tbody tr th:only-of-type {\n",
       "        vertical-align: middle;\n",
       "    }\n",
       "\n",
       "    .dataframe tbody tr th {\n",
       "        vertical-align: top;\n",
       "    }\n",
       "\n",
       "    .dataframe thead th {\n",
       "        text-align: right;\n",
       "    }\n",
       "</style>\n",
       "<table border=\"1\" class=\"dataframe\">\n",
       "  <thead>\n",
       "    <tr style=\"text-align: right;\">\n",
       "      <th></th>\n",
       "      <th>row_id</th>\n",
       "      <th>polarity</th>\n",
       "      <th>id</th>\n",
       "      <th>date</th>\n",
       "      <th>query</th>\n",
       "      <th>user</th>\n",
       "      <th>text</th>\n",
       "    </tr>\n",
       "  </thead>\n",
       "  <tbody>\n",
       "    <tr>\n",
       "      <th>0</th>\n",
       "      <td>0</td>\n",
       "      <td>0</td>\n",
       "      <td>2068921155</td>\n",
       "      <td>Sun Jun 07 14:56:42 PDT 2009</td>\n",
       "      <td>NO_QUERY</td>\n",
       "      <td>smiley_sophie</td>\n",
       "      <td>my arm still hurts from when i pulled it yeste...</td>\n",
       "    </tr>\n",
       "    <tr>\n",
       "      <th>1</th>\n",
       "      <td>1</td>\n",
       "      <td>4</td>\n",
       "      <td>2065871668</td>\n",
       "      <td>Sun Jun 07 09:27:21 PDT 2009</td>\n",
       "      <td>NO_QUERY</td>\n",
       "      <td>ImmaChocoholic</td>\n",
       "      <td>I have so much to do outside! Been looking at ...</td>\n",
       "    </tr>\n",
       "    <tr>\n",
       "      <th>2</th>\n",
       "      <td>2</td>\n",
       "      <td>0</td>\n",
       "      <td>1835774749</td>\n",
       "      <td>Mon May 18 06:43:27 PDT 2009</td>\n",
       "      <td>NO_QUERY</td>\n",
       "      <td>drmomentum</td>\n",
       "      <td>@AbsolutSara Yes, I knew about the clusterfark...</td>\n",
       "    </tr>\n",
       "    <tr>\n",
       "      <th>3</th>\n",
       "      <td>3</td>\n",
       "      <td>0</td>\n",
       "      <td>1967121891</td>\n",
       "      <td>Fri May 29 19:00:46 PDT 2009</td>\n",
       "      <td>NO_QUERY</td>\n",
       "      <td>sweetsheilx</td>\n",
       "      <td>Just woke up and i feel relieved Haha now i ha...</td>\n",
       "    </tr>\n",
       "    <tr>\n",
       "      <th>4</th>\n",
       "      <td>4</td>\n",
       "      <td>4</td>\n",
       "      <td>1695846172</td>\n",
       "      <td>Mon May 04 07:04:29 PDT 2009</td>\n",
       "      <td>NO_QUERY</td>\n",
       "      <td>monmariej</td>\n",
       "      <td>LOVING the hot weather forecast for the rest o...</td>\n",
       "    </tr>\n",
       "    <tr>\n",
       "      <th>...</th>\n",
       "      <td>...</td>\n",
       "      <td>...</td>\n",
       "      <td>...</td>\n",
       "      <td>...</td>\n",
       "      <td>...</td>\n",
       "      <td>...</td>\n",
       "      <td>...</td>\n",
       "    </tr>\n",
       "    <tr>\n",
       "      <th>29995</th>\n",
       "      <td>29995</td>\n",
       "      <td>4</td>\n",
       "      <td>1989611723</td>\n",
       "      <td>Mon Jun 01 02:10:20 PDT 2009</td>\n",
       "      <td>NO_QUERY</td>\n",
       "      <td>danjwhite1</td>\n",
       "      <td>@AaronRenfree be strong, You can do it!  x</td>\n",
       "    </tr>\n",
       "    <tr>\n",
       "      <th>29996</th>\n",
       "      <td>29996</td>\n",
       "      <td>0</td>\n",
       "      <td>2055276562</td>\n",
       "      <td>Sat Jun 06 09:01:28 PDT 2009</td>\n",
       "      <td>NO_QUERY</td>\n",
       "      <td>BethanyMcFlyX</td>\n",
       "      <td>@JessMcFlyxxx haha you ok? my tv has gone bloo...</td>\n",
       "    </tr>\n",
       "    <tr>\n",
       "      <th>29997</th>\n",
       "      <td>29997</td>\n",
       "      <td>0</td>\n",
       "      <td>2207484837</td>\n",
       "      <td>Wed Jun 17 08:00:01 PDT 2009</td>\n",
       "      <td>NO_QUERY</td>\n",
       "      <td>nicphillips83</td>\n",
       "      <td>Torrential rain + Take That fans traffic = bad...</td>\n",
       "    </tr>\n",
       "    <tr>\n",
       "      <th>29998</th>\n",
       "      <td>29998</td>\n",
       "      <td>4</td>\n",
       "      <td>2013485600</td>\n",
       "      <td>Tue Jun 02 22:47:33 PDT 2009</td>\n",
       "      <td>NO_QUERY</td>\n",
       "      <td>ghalya</td>\n",
       "      <td>feels loved... ahhhhhhhhhhh &amp;amp; now, i will ...</td>\n",
       "    </tr>\n",
       "    <tr>\n",
       "      <th>29999</th>\n",
       "      <td>29999</td>\n",
       "      <td>4</td>\n",
       "      <td>1972226101</td>\n",
       "      <td>Sat May 30 08:49:12 PDT 2009</td>\n",
       "      <td>NO_QUERY</td>\n",
       "      <td>TizBanana</td>\n",
       "      <td>@tsarnick Ok, the party would have been awesom...</td>\n",
       "    </tr>\n",
       "  </tbody>\n",
       "</table>\n",
       "<p>30000 rows × 7 columns</p>\n",
       "</div>"
      ],
      "text/plain": [
       "       row_id  polarity          id                          date     query  \\\n",
       "0           0         0  2068921155  Sun Jun 07 14:56:42 PDT 2009  NO_QUERY   \n",
       "1           1         4  2065871668  Sun Jun 07 09:27:21 PDT 2009  NO_QUERY   \n",
       "2           2         0  1835774749  Mon May 18 06:43:27 PDT 2009  NO_QUERY   \n",
       "3           3         0  1967121891  Fri May 29 19:00:46 PDT 2009  NO_QUERY   \n",
       "4           4         4  1695846172  Mon May 04 07:04:29 PDT 2009  NO_QUERY   \n",
       "...       ...       ...         ...                           ...       ...   \n",
       "29995   29995         4  1989611723  Mon Jun 01 02:10:20 PDT 2009  NO_QUERY   \n",
       "29996   29996         0  2055276562  Sat Jun 06 09:01:28 PDT 2009  NO_QUERY   \n",
       "29997   29997         0  2207484837  Wed Jun 17 08:00:01 PDT 2009  NO_QUERY   \n",
       "29998   29998         4  2013485600  Tue Jun 02 22:47:33 PDT 2009  NO_QUERY   \n",
       "29999   29999         4  1972226101  Sat May 30 08:49:12 PDT 2009  NO_QUERY   \n",
       "\n",
       "                 user                                               text  \n",
       "0       smiley_sophie  my arm still hurts from when i pulled it yeste...  \n",
       "1      ImmaChocoholic  I have so much to do outside! Been looking at ...  \n",
       "2          drmomentum  @AbsolutSara Yes, I knew about the clusterfark...  \n",
       "3         sweetsheilx  Just woke up and i feel relieved Haha now i ha...  \n",
       "4           monmariej  LOVING the hot weather forecast for the rest o...  \n",
       "...               ...                                                ...  \n",
       "29995      danjwhite1         @AaronRenfree be strong, You can do it!  x  \n",
       "29996   BethanyMcFlyX  @JessMcFlyxxx haha you ok? my tv has gone bloo...  \n",
       "29997   nicphillips83  Torrential rain + Take That fans traffic = bad...  \n",
       "29998          ghalya  feels loved... ahhhhhhhhhhh &amp; now, i will ...  \n",
       "29999       TizBanana  @tsarnick Ok, the party would have been awesom...  \n",
       "\n",
       "[30000 rows x 7 columns]"
      ]
     },
     "execution_count": 2,
     "metadata": {},
     "output_type": "execute_result"
    }
   ],
   "source": [
    "data_df = pd.read_csv(\"data/Data_tweets.csv\", engine=\"python\", header=None)\n",
    "data_df.columns = ['row_id', 'polarity', 'id', 'date', 'query', 'user', 'text']\n",
    "data_df"
   ]
  },
  {
   "cell_type": "code",
   "execution_count": 3,
   "id": "verbal-complement",
   "metadata": {},
   "outputs": [
    {
     "data": {
      "text/plain": [
       "0    15049\n",
       "4    14951\n",
       "Name: polarity, dtype: int64"
      ]
     },
     "execution_count": 3,
     "metadata": {},
     "output_type": "execute_result"
    }
   ],
   "source": [
    "data_df['polarity'].value_counts()"
   ]
  },
  {
   "cell_type": "code",
   "execution_count": 4,
   "id": "automotive-bench",
   "metadata": {},
   "outputs": [],
   "source": [
    "\"\"\"\n",
    "Convert csv data to a format, that the library understands (json file).\n",
    "Script also retrieves only 'polarity' and 'text' fields.\n",
    "Since there are no 'neutral' tweets in the dataset, polarity is mapped to {0, 1} values,\n",
    "where 0 means negative and 1 positive.\n",
    "\"\"\"\n",
    "!python3 -m scripts.prepare_twitter_data_for_library"
   ]
  },
  {
   "cell_type": "markdown",
   "id": "differential-landscape",
   "metadata": {},
   "source": [
    "### Preprocessing\n",
    "---\n",
    "- For all classifiers I used text preprocessing method targeted for social-media content from my library.\n",
    "- It processes users, hashtags, numbers, links and other social-media related elements."
   ]
  },
  {
   "cell_type": "markdown",
   "id": "subject-sculpture",
   "metadata": {},
   "source": [
    "### Baseline solution\n",
    "---\n",
    "<p>For the baseline solution I will try architecture based on Multilayer Perceptron with TF-IDF as the vectorization method.</p>"
   ]
  },
  {
   "cell_type": "code",
   "execution_count": 5,
   "id": "rational-spectrum",
   "metadata": {},
   "outputs": [],
   "source": [
    "# Baseline solution\n",
    "tfidf_baseline = create_preset(model_name='tfidf_baseline',\n",
    "                               preset_base='tfidf_feedforward',\n",
    "                               vector_width=2000,\n",
    "                               use_lowercase=True,\n",
    "                               twitter_preprocessing=True,\n",
    "                               X_name='text',\n",
    "                               y_name='polarity',\n",
    "                               data_path='data/data_tweets.json',\n",
    "                               test_size=0.2,\n",
    "                               use_cache=True,\n",
    "                               epochs=4,\n",
    "                               lr=0.003,\n",
    "                               hidden_layers_list=[\n",
    "                                     \"dense 64 relu\",\n",
    "                                     \"dropout1d 0.3\",\n",
    "                                     \"dense 64 relu\",\n",
    "                                     \"dropout1d 0.3\",\n",
    "                                     \"dense softmax 2\"])"
   ]
  },
  {
   "cell_type": "code",
   "execution_count": 6,
   "id": "portable-proxy",
   "metadata": {},
   "outputs": [
    {
     "name": "stdout",
     "output_type": "stream",
     "text": [
      "Started data cleaning...\n",
      "Twitter data cleaning...\n",
      "Lowercasing...\n",
      "Data cleaning finished!\n",
      "Started data cleaning...\n",
      "Twitter data cleaning...\n",
      "Lowercasing...\n",
      "Data cleaning finished!\n",
      "Cache data saved to _models/tfidf_baseline/_cache/cache_data.pickle\n",
      "Model: \"model\"\n",
      "_________________________________________________________________\n",
      "Layer (type)                 Output Shape              Param #   \n",
      "=================================================================\n",
      "input_1 (InputLayer)         [(None, 2000)]            0         \n",
      "_________________________________________________________________\n",
      "dense (Dense)                (None, 64)                128064    \n",
      "_________________________________________________________________\n",
      "dropout (Dropout)            (None, 64)                0         \n",
      "_________________________________________________________________\n",
      "dense_1 (Dense)              (None, 64)                4160      \n",
      "_________________________________________________________________\n",
      "dropout_1 (Dropout)          (None, 64)                0         \n",
      "_________________________________________________________________\n",
      "dense_2 (Dense)              (None, 2)                 130       \n",
      "=================================================================\n",
      "Total params: 132,354\n",
      "Trainable params: 132,354\n",
      "Non-trainable params: 0\n",
      "_________________________________________________________________\n",
      "Epoch 1/4\n",
      "169/169 [==============================] - 1s 5ms/step - loss: 0.6116 - accuracy: 0.6663 - val_loss: 0.4999 - val_accuracy: 0.7625\n",
      "Epoch 2/4\n",
      "169/169 [==============================] - 0s 2ms/step - loss: 0.4404 - accuracy: 0.8019 - val_loss: 0.4939 - val_accuracy: 0.7654\n",
      "Epoch 3/4\n",
      "169/169 [==============================] - 0s 2ms/step - loss: 0.4035 - accuracy: 0.8225 - val_loss: 0.5139 - val_accuracy: 0.7658\n",
      "Epoch 4/4\n",
      "169/169 [==============================] - 0s 2ms/step - loss: 0.3480 - accuracy: 0.8472 - val_loss: 0.5326 - val_accuracy: 0.7625\n",
      "Training process complete!\n",
      "Model saved to: _models/tfidf_baseline/model. Model name: tfidf_baseline\n"
     ]
    },
    {
     "data": {
      "text/plain": [
       "<text_clsf_lib.models.model_trainer_runner.NNModelRunner at 0x7ff7b210bd30>"
      ]
     },
     "execution_count": 6,
     "metadata": {},
     "output_type": "execute_result"
    }
   ],
   "source": [
    "# Build train and save TF-IDF model.\n",
    "build_train_save(tfidf_baseline)"
   ]
  },
  {
   "cell_type": "code",
   "execution_count": 7,
   "id": "small-holiday",
   "metadata": {},
   "outputs": [
    {
     "name": "stdout",
     "output_type": "stream",
     "text": [
      "Retrieving data from cache...\n"
     ]
    },
    {
     "data": {
      "image/png": "[encoded data removed]",
      "text/plain": [
       "<Figure size 432x288 with 1 Axes>"
      ]
     },
     "metadata": {
      "needs_background": "light"
     },
     "output_type": "display_data"
    },
    {
     "data": {
      "image/png": "[encoded data removed]",
      "text/plain": [
       "<Figure size 432x288 with 1 Axes>"
      ]
     },
     "metadata": {
      "needs_background": "light"
     },
     "output_type": "display_data"
    },
    {
     "data": {
      "image/png": "[encoded data removed]",
      "text/plain": [
       "<Figure size 288x288 with 1 Axes>"
      ]
     },
     "metadata": {
      "needs_background": "light"
     },
     "output_type": "display_data"
    },
    {
     "name": "stdout",
     "output_type": "stream",
     "text": [
      "Showing metrics for model: tfidf_baseline\n",
      "==========================================================\n",
      "Scikit-Learn Classification Report on provided test corpus\n",
      "==========================================================\n",
      "              precision    recall  f1-score   support\n",
      "\n",
      "           0       0.74      0.75      0.75      3010\n",
      "           1       0.75      0.73      0.74      2990\n",
      "\n",
      "    accuracy                           0.74      6000\n",
      "   macro avg       0.74      0.74      0.74      6000\n",
      "weighted avg       0.74      0.74      0.74      6000\n",
      "\n"
     ]
    },
    {
     "data": {
      "text/plain": [
       "(array([[7.3664325e-01, 2.6335678e-01],\n",
       "        [9.0716577e-01, 9.2834294e-02],\n",
       "        [1.4086944e-01, 8.5913050e-01],\n",
       "        ...,\n",
       "        [8.0518121e-01, 1.9481882e-01],\n",
       "        [7.5823373e-06, 9.9999237e-01],\n",
       "        [9.9039137e-01, 9.6086403e-03]], dtype=float32),\n",
       " array([0, 1, 0, ..., 0, 1, 0]))"
      ]
     },
     "execution_count": 7,
     "metadata": {},
     "output_type": "execute_result"
    }
   ],
   "source": [
    "# Evaluate and visualize TF-IDF.\n",
    "test_single_model(tfidf_baseline,\n",
    "                  plot_precision_recall=True,\n",
    "                  plot_roc_curve=True,\n",
    "                  plot_conf_matrix=True)"
   ]
  },
  {
   "cell_type": "code",
   "execution_count": 8,
   "id": "assisted-button",
   "metadata": {},
   "outputs": [],
   "source": [
    "# BiLSTM solution based on BPE Subword Tokenization\n",
    "bpe_bilstm = create_preset(model_name='bpe_bilstm',\n",
    "                           preset_base='bpe_rnn',\n",
    "                           max_seq_len=200,\n",
    "                           embedding_dim=50,\n",
    "                           max_vocab_size=10000,\n",
    "                           use_lowercase=True,\n",
    "                           twitter_preprocessing=True,\n",
    "                           X_name='text',\n",
    "                           y_name='polarity',\n",
    "                           data_path='data/data_tweets.json',\n",
    "                           test_size=0.2,\n",
    "                           use_cache=True,\n",
    "                           epochs=3,\n",
    "                           lr=0.004,\n",
    "                           hidden_layers_list=[\n",
    "                                     \"bidirectional lstm 100 return_sequences tanh\",\n",
    "                                     \"globalmaxpooling1d\",\n",
    "                                     \"dense relu 50\",\n",
    "                                     \"dropout1d 0.2\",\n",
    "                                     \"dense softmax 2\"])"
   ]
  },
  {
   "cell_type": "markdown",
   "id": "reserved-force",
   "metadata": {},
   "source": [
    "### BPE - BiLSTM classifier\n",
    "---"
   ]
  },
  {
   "cell_type": "code",
   "execution_count": 9,
   "id": "regulated-consumption",
   "metadata": {},
   "outputs": [
    {
     "name": "stdout",
     "output_type": "stream",
     "text": [
      "Started data cleaning...\n",
      "Twitter data cleaning...\n",
      "Lowercasing...\n",
      "Data cleaning finished!\n",
      "Started data cleaning...\n",
      "Twitter data cleaning...\n",
      "Lowercasing...\n",
      "Data cleaning finished!\n",
      "Max len: 237\n",
      "Max len: 167\n",
      "Cache data saved to _models/bpe_bilstm/_cache/cache_data.pickle\n",
      "Model: \"model_1\"\n",
      "_________________________________________________________________\n",
      "Layer (type)                 Output Shape              Param #   \n",
      "=================================================================\n",
      "input_2 (InputLayer)         [(None, 200)]             0         \n",
      "_________________________________________________________________\n",
      "embedding (Embedding)        (None, 200, 50)           500050    \n",
      "_________________________________________________________________\n",
      "bidirectional (Bidirectional (None, 200, 200)          120800    \n",
      "_________________________________________________________________\n",
      "global_max_pooling1d (Global (None, 200)               0         \n",
      "_________________________________________________________________\n",
      "dense_3 (Dense)              (None, 50)                10050     \n",
      "_________________________________________________________________\n",
      "dropout_2 (Dropout)          (None, 50)                0         \n",
      "_________________________________________________________________\n",
      "dense_4 (Dense)              (None, 2)                 102       \n",
      "=================================================================\n",
      "Total params: 631,002\n",
      "Trainable params: 130,952\n",
      "Non-trainable params: 500,050\n",
      "_________________________________________________________________\n",
      "Epoch 1/3\n",
      "169/169 [==============================] - 32s 179ms/step - loss: 0.6364 - accuracy: 0.6325 - val_loss: 0.5765 - val_accuracy: 0.6925\n",
      "Epoch 2/3\n",
      "169/169 [==============================] - 30s 177ms/step - loss: 0.5494 - accuracy: 0.7211 - val_loss: 0.5374 - val_accuracy: 0.7267\n",
      "Epoch 3/3\n",
      "169/169 [==============================] - 30s 179ms/step - loss: 0.5054 - accuracy: 0.7539 - val_loss: 0.5335 - val_accuracy: 0.7300\n",
      "Training process complete!\n",
      "Model saved to: _models/bpe_bilstm/model. Model name: bpe_bilstm\n"
     ]
    },
    {
     "data": {
      "text/plain": [
       "<text_clsf_lib.models.model_trainer_runner.NNModelRunner at 0x7ff7c0e7cc88>"
      ]
     },
     "execution_count": 9,
     "metadata": {},
     "output_type": "execute_result"
    }
   ],
   "source": [
    "# Build train and save BPE Bi-LSTM model.\n",
    "build_train_save(bpe_bilstm)"
   ]
  },
  {
   "cell_type": "code",
   "execution_count": 10,
   "id": "governmental-luther",
   "metadata": {},
   "outputs": [
    {
     "name": "stdout",
     "output_type": "stream",
     "text": [
      "Retrieving data from cache...\n"
     ]
    },
    {
     "data": {
      "image/png": "[encoded data removed]",
      "text/plain": [
       "<Figure size 432x288 with 1 Axes>"
      ]
     },
     "metadata": {
      "needs_background": "light"
     },
     "output_type": "display_data"
    },
    {
     "data": {
      "image/png": "[encoded data removed]",
      "text/plain": [
       "<Figure size 432x288 with 1 Axes>"
      ]
     },
     "metadata": {
      "needs_background": "light"
     },
     "output_type": "display_data"
    },
    {
     "data": {
      "image/png": "[encoded data removed]",
      "text/plain": [
       "<Figure size 288x288 with 1 Axes>"
      ]
     },
     "metadata": {
      "needs_background": "light"
     },
     "output_type": "display_data"
    },
    {
     "name": "stdout",
     "output_type": "stream",
     "text": [
      "Showing metrics for model: bpe_bilstm\n",
      "==========================================================\n",
      "Scikit-Learn Classification Report on provided test corpus\n",
      "==========================================================\n",
      "              precision    recall  f1-score   support\n",
      "\n",
      "           0       0.69      0.84      0.76      3010\n",
      "           1       0.79      0.62      0.70      2990\n",
      "\n",
      "    accuracy                           0.73      6000\n",
      "   macro avg       0.74      0.73      0.73      6000\n",
      "weighted avg       0.74      0.73      0.73      6000\n",
      "\n"
     ]
    },
    {
     "data": {
      "text/plain": [
       "(array([[0.70356613, 0.29643387],\n",
       "        [0.04363183, 0.95636815],\n",
       "        [0.7774957 , 0.22250429],\n",
       "        ...,\n",
       "        [0.7905274 , 0.20947263],\n",
       "        [0.69492865, 0.30507135],\n",
       "        [0.99438715, 0.00561292]], dtype=float32),\n",
       " array([0, 1, 0, ..., 0, 1, 0]))"
      ]
     },
     "execution_count": 10,
     "metadata": {},
     "output_type": "execute_result"
    }
   ],
   "source": [
    "# Evaluate and visualize BPE Bi-LSTM.\n",
    "test_single_model(bpe_bilstm)"
   ]
  },
  {
   "cell_type": "markdown",
   "id": "billion-sharing",
   "metadata": {},
   "source": [
    "### GloVe Twitter - BiLSTM classifier\n",
    "---"
   ]
  },
  {
   "cell_type": "code",
   "execution_count": 11,
   "id": "moral-compiler",
   "metadata": {},
   "outputs": [],
   "source": [
    "# BiLSTM solution based on GloVe Twitter pre-trained embeddings.\n",
    "glove_bilstm = create_preset(model_name='glove_bilstm',\n",
    "                             preset_base='glove_rnn',\n",
    "                             max_seq_len=200,\n",
    "                             embedding_dim=50,\n",
    "                             max_vocab_size=10000,\n",
    "                             use_lowercase=True,\n",
    "                             twitter_preprocessing=True,\n",
    "                             X_name='text',\n",
    "                             y_name='polarity',\n",
    "                             embedding_type='glove_twitter',\n",
    "                             data_path='data/data_tweets.json',\n",
    "                             test_size=0.2,\n",
    "                             use_cache=True,\n",
    "                             epochs=3,\n",
    "                             lr=0.004,\n",
    "                             hidden_layers_list=[\n",
    "                                     \"bidirectional lstm 100 return_sequences tanh\",\n",
    "                                     \"globalmaxpooling1d\",\n",
    "                                     \"dense relu 50\",\n",
    "                                     \"dropout1d 0.2\",\n",
    "                                     \"dense softmax 2\"])"
   ]
  },
  {
   "cell_type": "code",
   "execution_count": 12,
   "id": "demonstrated-performance",
   "metadata": {},
   "outputs": [
    {
     "name": "stdout",
     "output_type": "stream",
     "text": [
      "Started data cleaning...\n",
      "Twitter data cleaning...\n",
      "Lowercasing...\n",
      "Data cleaning finished!\n",
      "Started data cleaning...\n",
      "Twitter data cleaning...\n",
      "Lowercasing...\n",
      "Data cleaning finished!\n",
      "Loading pre-trained GloVe word vectors from text_clsf_lib/preprocessing/vectorization/resources/embeddings/glove/twitter/50d.txt.\n",
      "Found 1193515 vectors.\n",
      "Filling pre-trained embeddings.\n",
      "Cache data saved to _models/glove_bilstm/_cache/cache_data.pickle\n",
      "Model: \"model_2\"\n",
      "_________________________________________________________________\n",
      "Layer (type)                 Output Shape              Param #   \n",
      "=================================================================\n",
      "input_3 (InputLayer)         [(None, 200)]             0         \n",
      "_________________________________________________________________\n",
      "embedding_1 (Embedding)      (None, 200, 50)           500000    \n",
      "_________________________________________________________________\n",
      "bidirectional_1 (Bidirection (None, 200, 200)          120800    \n",
      "_________________________________________________________________\n",
      "global_max_pooling1d_1 (Glob (None, 200)               0         \n",
      "_________________________________________________________________\n",
      "dense_5 (Dense)              (None, 50)                10050     \n",
      "_________________________________________________________________\n",
      "dropout_3 (Dropout)          (None, 50)                0         \n",
      "_________________________________________________________________\n",
      "dense_6 (Dense)              (None, 2)                 102       \n",
      "=================================================================\n",
      "Total params: 630,952\n",
      "Trainable params: 130,952\n",
      "Non-trainable params: 500,000\n",
      "_________________________________________________________________\n",
      "Epoch 1/3\n",
      "169/169 [==============================] - 33s 180ms/step - loss: 0.5832 - accuracy: 0.6918 - val_loss: 0.5028 - val_accuracy: 0.7421\n",
      "Epoch 2/3\n",
      "169/169 [==============================] - 30s 177ms/step - loss: 0.4837 - accuracy: 0.7691 - val_loss: 0.4864 - val_accuracy: 0.7567\n",
      "Epoch 3/3\n",
      "169/169 [==============================] - 30s 178ms/step - loss: 0.4530 - accuracy: 0.7918 - val_loss: 0.4665 - val_accuracy: 0.7763\n",
      "Training process complete!\n",
      "Model saved to: _models/glove_bilstm/model. Model name: glove_bilstm\n"
     ]
    },
    {
     "data": {
      "text/plain": [
       "<text_clsf_lib.models.model_trainer_runner.NNModelRunner at 0x7ff7b1c08278>"
      ]
     },
     "execution_count": 12,
     "metadata": {},
     "output_type": "execute_result"
    }
   ],
   "source": [
    "# Build train and save GloVe-twitter Bi-LSTM model.\n",
    "build_train_save(glove_bilstm)"
   ]
  },
  {
   "cell_type": "code",
   "execution_count": 13,
   "id": "quantitative-farming",
   "metadata": {},
   "outputs": [
    {
     "name": "stdout",
     "output_type": "stream",
     "text": [
      "Retrieving data from cache...\n"
     ]
    },
    {
     "data": {
      "image/png": "[encoded data removed]",
      "text/plain": [
       "<Figure size 432x288 with 1 Axes>"
      ]
     },
     "metadata": {
      "needs_background": "light"
     },
     "output_type": "display_data"
    },
    {
     "data": {
      "image/png": "[encoded data removed]",
      "text/plain": [
       "<Figure size 432x288 with 1 Axes>"
      ]
     },
     "metadata": {
      "needs_background": "light"
     },
     "output_type": "display_data"
    },
    {
     "data": {
      "image/png": "[encoded data removed]",
      "text/plain": [
       "<Figure size 288x288 with 1 Axes>"
      ]
     },
     "metadata": {
      "needs_background": "light"
     },
     "output_type": "display_data"
    },
    {
     "name": "stdout",
     "output_type": "stream",
     "text": [
      "Showing metrics for model: glove_bilstm\n",
      "==========================================================\n",
      "Scikit-Learn Classification Report on provided test corpus\n",
      "==========================================================\n",
      "              precision    recall  f1-score   support\n",
      "\n",
      "           0       0.76      0.78      0.77      3010\n",
      "           1       0.77      0.75      0.76      2990\n",
      "\n",
      "    accuracy                           0.76      6000\n",
      "   macro avg       0.76      0.76      0.76      6000\n",
      "weighted avg       0.76      0.76      0.76      6000\n",
      "\n"
     ]
    },
    {
     "data": {
      "text/plain": [
       "(array([[1.5540858e-01, 8.4459144e-01],\n",
       "        [3.2634610e-01, 6.7365384e-01],\n",
       "        [5.8363545e-01, 4.1636455e-01],\n",
       "        ...,\n",
       "        [6.4712864e-01, 3.5287139e-01],\n",
       "        [3.1176014e-04, 9.9968827e-01],\n",
       "        [9.9957067e-01, 4.2933266e-04]], dtype=float32),\n",
       " array([0, 1, 0, ..., 0, 1, 0]))"
      ]
     },
     "execution_count": 13,
     "metadata": {},
     "output_type": "execute_result"
    }
   ],
   "source": [
    "# Evaluate and visualize GloVe-twitter Bi-LSTM.\n",
    "test_single_model(glove_bilstm, plot_precision_recall=True,\n",
    "                 plot_roc_curve=True,\n",
    "                 plot_conf_matrix=True)"
   ]
  },
  {
   "cell_type": "markdown",
   "id": "complicated-violin",
   "metadata": {},
   "source": [
    "### Comparison of the results of the prepared solutions\n",
    "---"
   ]
  },
  {
   "cell_type": "code",
   "execution_count": 16,
   "id": "analyzed-moment",
   "metadata": {
    "scrolled": true
   },
   "outputs": [
    {
     "name": "stdout",
     "output_type": "stream",
     "text": [
      "Retrieving data from cache...\n",
      "Retrieving data from cache...\n",
      "Retrieving data from cache...\n"
     ]
    },
    {
     "data": {
      "image/png": "[encoded data removed]",
      "text/plain": [
       "<Figure size 432x288 with 4 Axes>"
      ]
     },
     "metadata": {
      "needs_background": "light"
     },
     "output_type": "display_data"
    },
    {
     "data": {
      "image/png": "[encoded data removed]",
      "text/plain": [
       "<Figure size 432x288 with 1 Axes>"
      ]
     },
     "metadata": {
      "needs_background": "light"
     },
     "output_type": "display_data"
    },
    {
     "data": {
      "text/plain": [
       "{'tfidf_baseline': {'precision': 0.7421353464521716,\n",
       "  'recall': 0.7419571328570318,\n",
       "  'f1_score': 0.7419393270684529,\n",
       "  'roc_auc_score': 0.7419571328570317,\n",
       "  'confusion_matrix': array([[2272,  738],\n",
       "         [ 810, 2180]])},\n",
       " 'bpe_bilstm': {'precision': 0.739833577319002,\n",
       "  'recall': 0.7284730941454904,\n",
       "  'f1_score': 0.7254813925061819,\n",
       "  'roc_auc_score': 0.7284730941454904,\n",
       "  'confusion_matrix': array([[2518,  492],\n",
       "         [1135, 1855]])},\n",
       " 'glove_bilstm': {'precision': 0.7648008456910844,\n",
       "  'recall': 0.7644412715696841,\n",
       "  'f1_score': 0.764404184490698,\n",
       "  'roc_auc_score': 0.7644412715696841,\n",
       "  'confusion_matrix': array([[2354,  656],\n",
       "         [ 757, 2233]])}}"
      ]
     },
     "execution_count": 16,
     "metadata": {},
     "output_type": "execute_result"
    }
   ],
   "source": [
    "# Visualize comparison between created models.\n",
    "test_multiple_models(presets=[tfidf_baseline, bpe_bilstm, glove_bilstm],\n",
    "                     plot_precision_recall=True,\n",
    "                     plot_roc_curve=False,\n",
    "                     plot_conf_matrix=False,\n",
    "                     plot_model_metrics=True)"
   ]
  },
  {
   "cell_type": "code",
   "execution_count": 17,
   "id": "renewable-female",
   "metadata": {},
   "outputs": [],
   "source": [
    "# Create Predictor on top of the best created model and check, if it uses correct features for its decision.\n",
    "glove_predictor_preset = create_predictor_preset('glove_bilstm')\n",
    "glove_predictor = Predictor(glove_predictor_preset)"
   ]
  },
  {
   "cell_type": "code",
   "execution_count": 21,
   "id": "identified-register",
   "metadata": {},
   "outputs": [
    {
     "name": "stderr",
     "output_type": "stream",
     "text": [
      "/Users/dawidbrzozowski/Projects/sentiment_analysis/env/lib/python3.6/site-packages/lime/lime_text.py:114: FutureWarning: split() requires a non-empty pattern match.\n",
      "  self.as_list = [s for s in splitter.split(self.raw) if s]\n"
     ]
    },
    {
     "name": "stdout",
     "output_type": "stream",
     "text": [
      "Started data cleaning...\n",
      "Twitter data cleaning...\n",
      "Lowercasing...\n",
      "Data cleaning finished!\n",
      "Explaining text: I love the today's weather!\n",
      "Started data cleaning...\n",
      "Twitter data cleaning...\n",
      "Lowercasing...\n",
      "Data cleaning finished!\n",
      "Model prediction: [[0.09413025 0.9058698 ]]\n",
      "True label: 1\n",
      "Explanation for label: 1\n",
      "('love', 0.7590140717280397)\n",
      "('weather', -0.19478973910891065)\n",
      "('I', -0.10847385856304022)\n",
      "('the', 0.08247791641453874)\n",
      "('today', -0.06098516072220861)\n",
      "('s', -0.027512585784923726)\n"
     ]
    }
   ],
   "source": [
    "\"\"\"\n",
    "This function returns words and their impacts on the model decision.\n",
    "Values close to 1 mean positive correlation with the currently checked class.\n",
    "Values close to -1 mean negative correlation with the currently checked class.\n",
    "Values close to 0 mean no correlation.\n",
    "\"\"\"\n",
    "positive_text_test = 'I love the today\\'s weather!'\n",
    "deep_test_on_sample_lime(predictor=glove_predictor,\n",
    "                         text=positive_text_test,\n",
    "                         labels_to_explain=[1],\n",
    "                         true_label=1)"
   ]
  },
  {
   "cell_type": "code",
   "execution_count": 19,
   "id": "resistant-billy",
   "metadata": {},
   "outputs": [
    {
     "name": "stderr",
     "output_type": "stream",
     "text": [
      "/Users/dawidbrzozowski/Projects/sentiment_analysis/env/lib/python3.6/site-packages/lime/lime_text.py:114: FutureWarning: split() requires a non-empty pattern match.\n",
      "  self.as_list = [s for s in splitter.split(self.raw) if s]\n"
     ]
    },
    {
     "name": "stdout",
     "output_type": "stream",
     "text": [
      "Started data cleaning...\n",
      "Twitter data cleaning...\n",
      "Lowercasing...\n",
      "Data cleaning finished!\n",
      "Explaining text: I heard you are sick. Hope you feel better soon!\n",
      "Started data cleaning...\n",
      "Twitter data cleaning...\n",
      "Lowercasing...\n",
      "Data cleaning finished!\n",
      "Model prediction: [[0.9480709  0.05192914]]\n",
      "True label: 1\n",
      "Explanation for label: 1\n",
      "('sick', -0.33816892921223685)\n",
      "('feel', -0.23377650618494764)\n",
      "('you', 0.08972408070843252)\n",
      "('I', -0.06478742446756877)\n",
      "('better', 0.059801878447425856)\n",
      "('soon', 0.019423703226797175)\n",
      "('heard', -0.016491577791272062)\n",
      "('are', -0.01123626822812819)\n",
      "('Hope', 0.011169923933149478)\n"
     ]
    }
   ],
   "source": [
    "negative_text_test = 'I heard you are sick. Hope you feel better soon!'\n",
    "deep_test_on_sample_lime(predictor=glove_predictor,\n",
    "                         text=negative_text_test,\n",
    "                         labels_to_explain=[1],\n",
    "                         true_label=1)"
   ]
  }
 ],
 "metadata": {
  "kernelspec": {
   "display_name": "Python 3",
   "language": "python",
   "name": "python3"
  },
  "language_info": {
   "codemirror_mode": {
    "name": "ipython",
    "version": 3
   },
   "file_extension": ".py",
   "mimetype": "text/x-python",
   "name": "python",
   "nbconvert_exporter": "python",
   "pygments_lexer": "ipython3",
   "version": "3.6.8"
  }
 },
 "nbformat": 4,
 "nbformat_minor": 5
}
